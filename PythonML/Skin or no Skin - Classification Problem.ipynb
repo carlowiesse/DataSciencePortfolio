{
 "cells": [
  {
   "cell_type": "code",
   "execution_count": 32,
   "metadata": {},
   "outputs": [],
   "source": [
    "import pandas as pd\n",
    "import numpy as np\n",
    "import seaborn as sn\n",
    "import matplotlib.pyplot as plt\n",
    "\n",
    "from sklearn import svm\n",
    "from sklearn.metrics import confusion_matrix, precision_score, recall_score\n",
    "from sklearn.utils.class_weight import compute_class_weight\n",
    "\n",
    "from tensorflow.keras.layers import Input, Dense\n",
    "from tensorflow.keras.models import Model\n",
    "from tensorflow.keras.optimizers import Adam"
   ]
  },
  {
   "cell_type": "code",
   "execution_count": 33,
   "metadata": {},
   "outputs": [],
   "source": [
    "def extract_columns(raw_data, rows):\n",
    "    return [raw_data[col].values[:rows] for col in raw_data.columns[1:]]\n",
    "\n",
    "def check_for_sufficient_data(pos_data, neg_data, num_of_test_data):\n",
    "    if min(len(pos_data),len(neg_data)) < num_of_test_data:\n",
    "        print (\"Not enough positive/negative data points\")\n",
    "        return False\n",
    "    else:\n",
    "        return True\n",
    "\n",
    "def create_test_train_datasets(pos_data, neg_data, num_of_test_data):            \n",
    "    # Shuffle data\n",
    "    np.random.shuffle(pos_data)\n",
    "    np.random.shuffle(neg_data)\n",
    "\n",
    "    n = int(num_of_test_data/2)\n",
    " \n",
    "    test_data = np.vstack((pos_data[:n],neg_data[:n]))\n",
    "    train_data = np.vstack((pos_data[n:],neg_data[n:]))\n",
    "\n",
    "    test_labels = np.hstack((np.ones(n),np.zeros(n)))\n",
    "    train_labels = np.hstack((np.ones(len(pos_data)-n),np.zeros(len(neg_data)-n)))\n",
    "\n",
    "    return test_data, test_labels, train_data, train_labels \n",
    "\n",
    "def load_data():\n",
    "    raw_data_skin = pd.read_csv('2016skin.csv', sep=';', decimal='.')\n",
    "    raw_data_material = pd.read_csv('2016material.csv', sep=';', decimal='.')\n",
    "    raw_data_material_fake = pd.read_csv('2016material-fake.csv', sep=';', decimal='.')\n",
    "\n",
    "    data_skin = np.array(extract_columns(raw_data_skin,1021))\n",
    "    data_not_skin = np.array(extract_columns(raw_data_material,1021) + extract_columns(raw_data_material_fake,1021))\n",
    "    \n",
    "    if check_for_sufficient_data(data_skin, data_not_skin, 100):\n",
    "        return create_test_train_datasets(data_skin, data_not_skin, 100)"
   ]
  },
  {
   "cell_type": "code",
   "execution_count": 34,
   "metadata": {},
   "outputs": [],
   "source": [
    "# Neural Network Model\n",
    "def run_nn_model():\n",
    "    # Define model\n",
    "    input_data = Input(shape=(1021,))\n",
    "    x = Dense(1021, activation='relu')(input_data)\n",
    "    output_data = Dense(1, activation='sigmoid')(x)\n",
    "    nn_model = Model(input_data, output_data)\n",
    "\n",
    "    # Compile model\n",
    "    nn_model.compile(loss='binary_crossentropy', optimizer=Adam(lr=0.000001), metrics=['accuracy'])\n",
    "\n",
    "    # Train model\n",
    "    weights = compute_class_weight('balanced',np.array([0,1]),train_labels)\n",
    "    nn_model.fit(train_data, train_labels, batch_size=5, epochs=10, class_weight={0:weights[0],1:weights[1]}, verbose=1)\n",
    "    \n",
    "    # Get predictions\n",
    "    predicted_labels = nn_model.predict(test_data)\n",
    "    predicted_labels = np.array([i > 0.5 for i in predicted_labels])\n",
    "    \n",
    "    del nn_model\n",
    "    return predicted_labels\n",
    "\n",
    "# Support Vector Machine Model\n",
    "def run_svm_model():\n",
    "    # Define model\n",
    "    svm_model = svm.SVC(C=1000, kernel='linear')\n",
    "\n",
    "    # Train model\n",
    "    svm_model.fit(train_data, train_labels)\n",
    "\n",
    "    # Get predictions\n",
    "    predicted_labels = svm_model.predict(test_data)\n",
    "    predicted_labels = np.array([i > 0.5 for i in predicted_labels])\n",
    "    \n",
    "    del svm_model\n",
    "    return predicted_labels"
   ]
  },
  {
   "cell_type": "markdown",
   "metadata": {},
   "source": [
    "## Data Classification using Neural Networks"
   ]
  },
  {
   "cell_type": "code",
   "execution_count": null,
   "metadata": {},
   "outputs": [],
   "source": [
    "# Set random seed for repeatibility\n",
    "np.random.seed(0)"
   ]
  },
  {
   "cell_type": "code",
   "execution_count": 10,
   "metadata": {},
   "outputs": [],
   "source": [
    "# Load data\n",
    "test_data, test_labels, train_data, train_labels = load_data()"
   ]
  },
  {
   "cell_type": "code",
   "execution_count": 16,
   "metadata": {},
   "outputs": [
    {
     "name": "stderr",
     "output_type": "stream",
     "text": [
      "/home/carlo/.local/lib/python3.6/site-packages/sklearn/utils/validation.py:72: FutureWarning: Pass classes=[0 1], y=[1. 1. 1. ... 0. 0. 0.] as keyword args. From version 1.0 (renaming of 0.25) passing these as positional arguments will result in an error\n",
      "  \"will result in an error\", FutureWarning)\n"
     ]
    },
    {
     "name": "stdout",
     "output_type": "stream",
     "text": [
      "Epoch 1/10\n",
      "276/276 [==============================] - 3s 9ms/step - loss: 0.5822 - accuracy: 0.9260\n",
      "Epoch 2/10\n",
      "276/276 [==============================] - 2s 8ms/step - loss: 0.1013 - accuracy: 0.9695\n",
      "Epoch 3/10\n",
      "276/276 [==============================] - 2s 9ms/step - loss: 0.0879 - accuracy: 0.9790\n",
      "Epoch 4/10\n",
      "276/276 [==============================] - 2s 8ms/step - loss: 0.0796 - accuracy: 0.9797\n",
      "Epoch 5/10\n",
      "276/276 [==============================] - 2s 9ms/step - loss: 0.0740 - accuracy: 0.9819\n",
      "Epoch 6/10\n",
      "276/276 [==============================] - 2s 9ms/step - loss: 0.0682 - accuracy: 0.9833\n",
      "Epoch 7/10\n",
      "276/276 [==============================] - 3s 9ms/step - loss: 0.0642 - accuracy: 0.9869\n",
      "Epoch 8/10\n",
      "276/276 [==============================] - 3s 9ms/step - loss: 0.0613 - accuracy: 0.9840\n",
      "Epoch 9/10\n",
      "276/276 [==============================] - 2s 9ms/step - loss: 0.0583 - accuracy: 0.9848\n",
      "Epoch 10/10\n",
      "276/276 [==============================] - 3s 10ms/step - loss: 0.0563 - accuracy: 0.9869\n"
     ]
    }
   ],
   "source": [
    "predicted_labels = run_nn_model()"
   ]
  },
  {
   "cell_type": "code",
   "execution_count": 28,
   "metadata": {},
   "outputs": [
    {
     "name": "stdout",
     "output_type": "stream",
     "text": [
      "NN PERFORMANCE\n",
      "precision: 0.98\n",
      "recall: 0.98\n",
      "confusion matrix:\n"
     ]
    },
    {
     "data": {
      "image/png": "[encoded data removed]",
      "text/plain": [
       "<Figure size 432x360 with 2 Axes>"
      ]
     },
     "metadata": {
      "needs_background": "light"
     },
     "output_type": "display_data"
    }
   ],
   "source": [
    "print (\"NN PERFORMANCE\")\n",
    "\n",
    "print (\"precision:\",precision_score(test_labels, predicted_labels, labels=[1,0]))\n",
    "print (\"recall:\",recall_score(test_labels, predicted_labels, labels=[1,0]))\n",
    "print (\"confusion matrix:\")\n",
    "\n",
    "array = confusion_matrix(test_labels, predicted_labels, labels=[1,0])\n",
    "df_cm = pd.DataFrame(array, \n",
    "                     index = [\"Positive\", \"Negative\"],\n",
    "                     columns = [\"Positive\", \"Negative\"])\n",
    "\n",
    "plt.figure(figsize = (6,5))\n",
    "sn.heatmap(df_cm, annot=True)\n",
    "plt.xlabel('Actual Label')\n",
    "plt.ylabel('Predicted Label')\n",
    "plt.show()"
   ]
  },
  {
   "cell_type": "markdown",
   "metadata": {},
   "source": [
    "## Data Classification using Support Vector Machines"
   ]
  },
  {
   "cell_type": "code",
   "execution_count": 37,
   "metadata": {},
   "outputs": [],
   "source": [
    "# Set random seed for repeatibility\n",
    "np.random.seed(0)"
   ]
  },
  {
   "cell_type": "code",
   "execution_count": 38,
   "metadata": {},
   "outputs": [],
   "source": [
    "# Load data\n",
    "test_data, test_labels, train_data, train_labels = load_data()"
   ]
  },
  {
   "cell_type": "code",
   "execution_count": 39,
   "metadata": {},
   "outputs": [],
   "source": [
    "predicted_labels = run_svm_model()"
   ]
  },
  {
   "cell_type": "code",
   "execution_count": 40,
   "metadata": {},
   "outputs": [
    {
     "name": "stdout",
     "output_type": "stream",
     "text": [
      "SVM PERFORMANCE\n",
      "precision: 1.0\n",
      "recall: 1.0\n",
      "confusion matrix:\n"
     ]
    },
    {
     "data": {
      "image/png": "[encoded data removed]",
      "text/plain": [
       "<Figure size 432x360 with 2 Axes>"
      ]
     },
     "metadata": {
      "needs_background": "light"
     },
     "output_type": "display_data"
    }
   ],
   "source": [
    "print (\"SVM PERFORMANCE\")\n",
    "\n",
    "print (\"precision:\",precision_score(test_labels, predicted_labels, labels=[1,0]))\n",
    "print (\"recall:\",recall_score(test_labels, predicted_labels, labels=[1,0]))\n",
    "print (\"confusion matrix:\")\n",
    "\n",
    "array = confusion_matrix(test_labels, predicted_labels, labels=[1,0])\n",
    "df_cm = pd.DataFrame(array, \n",
    "                     index = [\"Positive\", \"Negative\"],\n",
    "                     columns = [\"Positive\", \"Negative\"])\n",
    "\n",
    "plt.figure(figsize = (6,5))\n",
    "sn.heatmap(df_cm, annot=True)\n",
    "plt.xlabel('Actual Label')\n",
    "plt.ylabel('Predicted Label')\n",
    "plt.show()"
   ]
  },
  {
   "cell_type": "code",
   "execution_count": null,
   "metadata": {},
   "outputs": [],
   "source": []
  }
 ],
 "metadata": {
  "kernelspec": {
   "display_name": "Python 3",
   "language": "python",
   "name": "python3"
  },
  "language_info": {
   "codemirror_mode": {
    "name": "ipython",
    "version": 3
   },
   "file_extension": ".py",
   "mimetype": "text/x-python",
   "name": "python",
   "nbconvert_exporter": "python",
   "pygments_lexer": "ipython3",
   "version": "3.6.9"
  }
 },
 "nbformat": 4,
 "nbformat_minor": 4
}
